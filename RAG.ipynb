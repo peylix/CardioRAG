{
 "cells": [
  {
   "cell_type": "code",
   "execution_count": 2,
   "id": "b01791d7-3422-46e5-ac88-1c8e72510821",
   "metadata": {
    "execution": {
     "iopub.execute_input": "2024-08-14T02:46:26.070160Z",
     "iopub.status.busy": "2024-08-14T02:46:26.069770Z",
     "iopub.status.idle": "2024-08-14T02:47:12.391996Z",
     "shell.execute_reply": "2024-08-14T02:47:12.391512Z",
     "shell.execute_reply.started": "2024-08-14T02:46:26.070134Z"
    }
   },
   "outputs": [
    {
     "name": "stderr",
     "output_type": "stream",
     "text": [
      "d:\\Anaconda3\\envs\\langchain\\lib\\site-packages\\tqdm\\auto.py:21: TqdmWarning: IProgress not found. Please update jupyter and ipywidgets. See https://ipywidgets.readthedocs.io/en/stable/user_install.html\n",
      "  from .autonotebook import tqdm as notebook_tqdm\n"
     ]
    }
   ],
   "source": [
    "# LangChain 接入Yuan模型\n",
    "from modelscope import snapshot_download\n",
    "model_dir = snapshot_download('IEITYuan/Yuan2-2B-Mars-hf', cache_dir='./model/autodl-fs')"
   ]
  },
  {
   "cell_type": "code",
   "execution_count": 3,
   "id": "997b8f7a-5f8e-42b2-8988-9573893123f4",
   "metadata": {
    "execution": {
     "iopub.execute_input": "2024-08-14T02:55:35.876744Z",
     "iopub.status.busy": "2024-08-14T02:55:35.876366Z",
     "iopub.status.idle": "2024-08-14T02:55:41.399794Z",
     "shell.execute_reply": "2024-08-14T02:55:41.399180Z",
     "shell.execute_reply.started": "2024-08-14T02:55:35.876721Z"
    },
    "tags": []
   },
   "outputs": [
    {
     "name": "stderr",
     "output_type": "stream",
     "text": [
      "You are using the default legacy behaviour of the <class 'transformers.models.llama.tokenization_llama.LlamaTokenizer'>. This is expected, and simply means that the `legacy` (previous) behavior will be used so nothing changes for you. If you want to use the new behaviour, set `legacy=False`. This should only be set if you understand what it means, and thoroughly read the reason why this was added as explained in https://github.com/huggingface/transformers/pull/24565\n"
     ]
    },
    {
     "name": "stdout",
     "output_type": "stream",
     "text": [
      "Creat tokenizer...\n",
      "Creat model...\n"
     ]
    },
    {
     "name": "stderr",
     "output_type": "stream",
     "text": [
      "d:\\Anaconda3\\envs\\langchain\\lib\\site-packages\\langchain_core\\_api\\deprecation.py:141: LangChainDeprecationWarning: The method `BaseLLM.__call__` was deprecated in langchain-core 0.1.7 and will be removed in 0.3.0. Use invoke instead.\n",
      "  warn_deprecated(\n"
     ]
    },
    {
     "name": "stdout",
     "output_type": "stream",
     "text": [
      " 我是一个人工智能助手，专门设计来帮助您解决问题和提供信息。无论您有什么需要，只要告诉我，我就会尽力帮助您。<eod>\n"
     ]
    }
   ],
   "source": [
    "# 调用模型\n",
    "from LLM import Yuan2_LLM\n",
    "llm = Yuan2_LLM('model/autodl-fs/IEITYuan/Yuan2-2B-Mars-hf')\n",
    "print(llm(\"你是谁\"))"
   ]
  },
  {
   "cell_type": "code",
   "execution_count": 4,
   "id": "6ff7575a-dcd8-425c-9b90-476f0ea42097",
   "metadata": {
    "execution": {
     "iopub.execute_input": "2024-08-14T02:56:33.265792Z",
     "iopub.status.busy": "2024-08-14T02:56:33.265419Z",
     "iopub.status.idle": "2024-08-14T02:56:33.288145Z",
     "shell.execute_reply": "2024-08-14T02:56:33.287399Z",
     "shell.execute_reply.started": "2024-08-14T02:56:33.265772Z"
    },
    "tags": []
   },
   "outputs": [
    {
     "name": "stdout",
     "output_type": "stream",
     "text": [
      "[]\n",
      "0\n"
     ]
    }
   ],
   "source": [
    "import os\n",
    "from langchain_community.document_loaders import TextLoader\n",
    "from langchain.document_loaders import PyPDFLoader\n",
    "from langchain.document_loaders.pdf import PyMuPDFLoader\n",
    "# 初始化一个空列表来存储 PDF 文件路径\n",
    "pdf_file_paths = []\n",
    "\n",
    "# 指定文件夹路径\n",
    "folder_path = './data'\n",
    "\n",
    "# 使用 os.walk 遍历文件夹及其子文件夹\n",
    "for root, dirs, files in os.walk(folder_path):\n",
    "    for file in files:\n",
    "        # 检查文件是否为 PDF 文件\n",
    "        if file.endswith('.pdf'):\n",
    "            # 构建完整的文件路径并添加到列表中\n",
    "            file_path = os.path.join(root, file)\n",
    "            pdf_file_paths.append(file_path)\n",
    "\n",
    "# 打印前三个 PDF 文件的路径\n",
    "print(pdf_file_paths[:3])\n",
    "print(len(pdf_file_paths))"
   ]
  },
  {
   "cell_type": "code",
   "execution_count": 5,
   "id": "7efd7436-5e32-45c5-b70d-40c31c278587",
   "metadata": {
    "execution": {
     "iopub.execute_input": "2024-08-14T02:57:04.640814Z",
     "iopub.status.busy": "2024-08-14T02:57:04.640429Z",
     "iopub.status.idle": "2024-08-14T02:57:04.885930Z",
     "shell.execute_reply": "2024-08-14T02:57:04.885382Z",
     "shell.execute_reply.started": "2024-08-14T02:57:04.640787Z"
    },
    "tags": []
   },
   "outputs": [
    {
     "data": {
      "text/plain": [
       "0"
      ]
     },
     "execution_count": 5,
     "metadata": {},
     "output_type": "execute_result"
    }
   ],
   "source": [
    "# 遍历文件路径并把实例化的loader存放在loaders里\n",
    "loaders = []\n",
    "\n",
    "for file_path in pdf_file_paths:\n",
    "\n",
    "    file_type = file_path.split('.')[-1]\n",
    "    if file_type == 'pdf':\n",
    "        loaders.append(PyMuPDFLoader(file_path))\n",
    "\n",
    "len(loaders)"
   ]
  },
  {
   "cell_type": "code",
   "execution_count": 8,
   "id": "20df1bed-c569-43c2-9d1c-1541e7fbd702",
   "metadata": {
    "execution": {
     "iopub.execute_input": "2024-08-14T02:57:13.040132Z",
     "iopub.status.busy": "2024-08-14T02:57:13.039758Z",
     "iopub.status.idle": "2024-08-14T02:57:18.908451Z",
     "shell.execute_reply": "2024-08-14T02:57:18.907771Z",
     "shell.execute_reply.started": "2024-08-14T02:57:13.040112Z"
    }
   },
   "outputs": [
    {
     "data": {
      "text/plain": [
       "3462"
      ]
     },
     "execution_count": 8,
     "metadata": {},
     "output_type": "execute_result"
    }
   ],
   "source": [
    "# 下载文件并存储到text\n",
    "texts = []\n",
    "for loader in loaders: texts.extend(loader.load())\n",
    "len(texts)"
   ]
  },
  {
   "cell_type": "code",
   "execution_count": null,
   "id": "9ff09406-467c-4125-9aa1-c58432edd4c3",
   "metadata": {
    "tags": []
   },
   "outputs": [],
   "source": [
    "text = texts[0]\n",
    "print(f\"每一个元素的类型：{type(text)}.\", \n",
    "    f\"该文档的描述性数据：{text.metadata}\", \n",
    "    f\"查看该文档的内容:\\n{text.page_content}\", \n",
    "    sep=\"\\n------\\n\")"
   ]
  },
  {
   "cell_type": "code",
   "execution_count": 10,
   "id": "aee1b136-9ca3-442e-949c-700977812b06",
   "metadata": {
    "execution": {
     "iopub.execute_input": "2024-08-14T02:58:13.814889Z",
     "iopub.status.busy": "2024-08-14T02:58:13.814483Z",
     "iopub.status.idle": "2024-08-14T02:58:14.511582Z",
     "shell.execute_reply": "2024-08-14T02:58:14.510669Z",
     "shell.execute_reply.started": "2024-08-14T02:58:13.814858Z"
    }
   },
   "outputs": [
    {
     "name": "stdout",
     "output_type": "stream",
     "text": [
      "6533\n"
     ]
    }
   ],
   "source": [
    "from langchain.text_splitter import RecursiveCharacterTextSplitter\n",
    "# 文档分割\n",
    "text_splitter = RecursiveCharacterTextSplitter(chunk_size=1000, chunk_overlap=200,length_function=len)\n",
    "split_docs = text_splitter.split_documents(texts)\n",
    "print(len(split_docs))"
   ]
  },
  {
   "cell_type": "code",
   "execution_count": 22,
   "id": "e34a801b-6564-42c1-bbf5-c49a17e9cddb",
   "metadata": {
    "ExecutionIndicator": {
     "show": true
    },
    "execution": {
     "iopub.execute_input": "2024-08-14T03:43:27.005756Z",
     "iopub.status.busy": "2024-08-14T03:43:27.005187Z",
     "iopub.status.idle": "2024-08-14T03:43:47.429980Z",
     "shell.execute_reply": "2024-08-14T03:43:47.428386Z",
     "shell.execute_reply.started": "2024-08-14T03:43:27.005718Z"
    },
    "tags": []
   },
   "outputs": [],
   "source": [
    "from sentence_transformers import SentenceTransformer\n",
    "\n",
    "# 指定向量模型名称\n",
    "model_name = \"moka-ai/m3e-base\"\n",
    "\n",
    "# 创建模型实例并将模型保存到指定路径\n",
    "model = SentenceTransformer(model_name)\n",
    "model.save('\\\\model\\\\m3e-base')"
   ]
  },
  {
   "cell_type": "code",
   "execution_count": 8,
   "id": "e5dba86d-82d1-45a4-8013-41cc4dc85603",
   "metadata": {
    "ExecutionIndicator": {
     "show": true
    },
    "execution": {
     "iopub.execute_input": "2024-08-14T03:46:36.480312Z",
     "iopub.status.busy": "2024-08-14T03:46:36.479940Z",
     "iopub.status.idle": "2024-08-14T03:47:43.261129Z",
     "shell.execute_reply": "2024-08-14T03:47:43.259951Z",
     "shell.execute_reply.started": "2024-08-14T03:46:36.480279Z"
    },
    "tags": []
   },
   "outputs": [
    {
     "name": "stderr",
     "output_type": "stream",
     "text": [
      "d:\\Anaconda3\\envs\\langchain\\lib\\site-packages\\langchain_core\\_api\\deprecation.py:141: LangChainDeprecationWarning: The class `HuggingFaceEmbeddings` was deprecated in LangChain 0.2.2 and will be removed in 0.3.0. An updated version of the class exists in the langchain-huggingface package and should be used instead. To use it run `pip install -U langchain-huggingface` and import as `from langchain_huggingface import HuggingFaceEmbeddings`.\n",
      "  warn_deprecated(\n"
     ]
    }
   ],
   "source": [
    "# 向量化\n",
    "from transformers.utils import is_torch_cuda_available, is_torch_mps_available\n",
    "from langchain_community.embeddings import HuggingFaceEmbeddings\n",
    "from langchain.vectorstores import FAISS\n",
    "# 词嵌入模型\n",
    "EMBEDDING_DEVICE = \"cuda\" if is_torch_cuda_available() else \"mps\" if is_torch_mps_available() else \"cpu\"\n",
    "embeddings_model = HuggingFaceEmbeddings(model_name='./model/m3e-base', model_kwargs={'device': 'cuda'})"
   ]
  },
  {
   "cell_type": "code",
   "execution_count": null,
   "id": "f4b71e73",
   "metadata": {},
   "outputs": [],
   "source": [
    "vectorstore = FAISS.from_documents(documents=split_docs, embedding=embeddings_model)"
   ]
  },
  {
   "cell_type": "code",
   "execution_count": 24,
   "id": "2718dcf1-c12e-48e1-9cb6-deb4684aeff1",
   "metadata": {
    "execution": {
     "iopub.execute_input": "2024-08-14T03:49:07.639402Z",
     "iopub.status.busy": "2024-08-14T03:49:07.638986Z",
     "iopub.status.idle": "2024-08-14T03:49:07.711853Z",
     "shell.execute_reply": "2024-08-14T03:49:07.710995Z",
     "shell.execute_reply.started": "2024-08-14T03:49:07.639380Z"
    }
   },
   "outputs": [],
   "source": [
    "# 指定保存的路径\n",
    "save_path = \"./faiss_index\"\n",
    "\n",
    "# 保存向量数据库\n",
    "vectorstore.save_local(save_path)"
   ]
  },
  {
   "cell_type": "code",
   "execution_count": 10,
   "id": "0b6d47ab",
   "metadata": {},
   "outputs": [],
   "source": [
    "from langchain.vectorstores import FAISS\n",
    "\n",
    "# 指定保存的路径\n",
    "save_path = \"./faiss_index\"\n",
    "\n",
    "# 加载向量数据库\n",
    "vectorstore = FAISS.load_local(save_path, embeddings_model, allow_dangerous_deserialization=True)"
   ]
  },
  {
   "cell_type": "code",
   "execution_count": 11,
   "id": "6f0bfed8-f7e4-4135-be13-a710f8bd6daf",
   "metadata": {
    "execution": {
     "iopub.execute_input": "2024-08-14T03:49:23.054636Z",
     "iopub.status.busy": "2024-08-14T03:49:23.054086Z",
     "iopub.status.idle": "2024-08-14T03:49:23.060405Z",
     "shell.execute_reply": "2024-08-14T03:49:23.059584Z",
     "shell.execute_reply.started": "2024-08-14T03:49:23.054600Z"
    }
   },
   "outputs": [
    {
     "name": "stdout",
     "output_type": "stream",
     "text": [
      "<faiss.swigfaiss_avx2.IndexFlatL2; proxy of <Swig Object of type 'faiss::IndexFlatL2 *' at 0x0000012FF3F42810> >\n",
      "6533\n",
      "768\n"
     ]
    }
   ],
   "source": [
    "print(vectorstore.index)\n",
    "print(vectorstore.index.ntotal)  # 向量总数\n",
    "print(vectorstore.index.d)       # 向量维度"
   ]
  },
  {
   "cell_type": "code",
   "execution_count": null,
   "id": "7a736912-fca2-46f8-8cba-13c8c64dd1de",
   "metadata": {
    "tags": []
   },
   "outputs": [],
   "source": [
    "# 查看元数据\n",
    "metadata_list = vectorstore.docstore._dict.values()\n",
    "for metadata in metadata_list:\n",
    "    print(metadata)"
   ]
  },
  {
   "cell_type": "code",
   "execution_count": 27,
   "id": "5204a440-d4c7-487b-8877-0300c1314555",
   "metadata": {
    "execution": {
     "iopub.execute_input": "2024-08-14T03:50:03.039723Z",
     "iopub.status.busy": "2024-08-14T03:50:03.039278Z",
     "iopub.status.idle": "2024-08-14T03:50:03.065064Z",
     "shell.execute_reply": "2024-08-14T03:50:03.064287Z",
     "shell.execute_reply.started": "2024-08-14T03:50:03.039695Z"
    }
   },
   "outputs": [
    {
     "name": "stdout",
     "output_type": "stream",
     "text": [
      "8 \n",
      " \n",
      "1.得舒饮食（DASH）。富含新鲜蔬菜、水果、低脂（或\n",
      "脱脂）乳制品、禽肉、鱼、大豆和坚果以及全谷物，限制含\n",
      "糖饮料和红肉的摄入，\n",
      "饱和脂肪酸和胆固醇水平低，\n",
      "富含钾、\n",
      "镁、钙等矿物质、优质蛋白质和膳食纤维。 \n",
      "2.东方健康膳食模式。我国东南沿海地区居民高血压、\n",
      "脑卒中的风险较低，期望寿命也较高，东南沿海一带的代表\n",
      "性膳食统称为东方健康膳食模式。其主要特点是清淡少盐、\n",
      "食物多样、谷物为主，蔬菜水果充足，鱼虾等水产品丰富，\n",
      "奶类、豆类丰富等，并且具有较高的身体活动量。 \n",
      "3.中国心脏健康膳食（CHH-Diet）。与中国城市人群普\n",
      "通膳食相比，\n",
      "本膳食模式减少钠摄入，\n",
      "同时减少了脂肪摄入，\n",
      "增加了蛋白质、碳水化合物、钾、镁、钙和膳食纤维摄入。\n"
     ]
    }
   ],
   "source": [
    "# 向量查询\n",
    "query = '东方健康膳食模式'\n",
    "docs = vectorstore.similarity_search(query)\n",
    "print(docs[0].page_content)"
   ]
  },
  {
   "cell_type": "code",
   "execution_count": 28,
   "id": "f62f98f5-d1b0-4225-ba71-c4aeccaa8109",
   "metadata": {
    "execution": {
     "iopub.execute_input": "2024-08-14T03:50:12.393217Z",
     "iopub.status.busy": "2024-08-14T03:50:12.392829Z",
     "iopub.status.idle": "2024-08-14T03:50:12.428022Z",
     "shell.execute_reply": "2024-08-14T03:50:12.427469Z",
     "shell.execute_reply.started": "2024-08-14T03:50:12.393196Z"
    }
   },
   "outputs": [
    {
     "name": "stdout",
     "output_type": "stream",
     "text": [
      "8 \n",
      " \n",
      "1.得舒饮食（DASH）。富含新鲜蔬菜、水果、低脂（或\n",
      "脱脂）乳制品、禽肉、鱼、大豆和坚果以及全谷物，限制含\n",
      "糖饮料和红肉的摄入，\n",
      "饱和脂肪酸和胆固醇水平低，\n",
      "富含钾、\n",
      "镁、钙等矿物质、优质蛋白质和膳食纤维。 \n",
      "2.东方健康膳食模式。我国东南沿海地区居民高血压、\n",
      "脑卒中的风险较低，期望寿命也较高，东南沿海一带的代表\n",
      "性膳食统称为东方健康膳食模式。其主要特点是清淡少盐、\n",
      "食物多样、谷物为主，蔬菜水果充足，鱼虾等水产品丰富，\n",
      "奶类、豆类丰富等，并且具有较高的身体活动量。 \n",
      "3.中国心脏健康膳食（CHH-Diet）。与中国城市人群普\n",
      "通膳食相比，\n",
      "本膳食模式减少钠摄入，\n",
      "同时减少了脂肪摄入，\n",
      "增加了蛋白质、碳水化合物、钾、镁、钙和膳食纤维摄入。\n"
     ]
    },
    {
     "name": "stderr",
     "output_type": "stream",
     "text": [
      "/usr/local/lib/python3.10/site-packages/langchain_core/_api/deprecation.py:141: LangChainDeprecationWarning: The method `BaseRetriever.get_relevant_documents` was deprecated in langchain-core 0.1.46 and will be removed in 0.3.0. Use invoke instead.\n",
      "  warn_deprecated(\n"
     ]
    }
   ],
   "source": [
    "#向量检索\n",
    "retriever = vectorstore.as_retriever()\n",
    "docs = retriever.get_relevant_documents(\"东方健康膳食模式\")\n",
    "print(docs[0].page_content)"
   ]
  },
  {
   "cell_type": "code",
   "execution_count": 29,
   "id": "28ce6f49-cc1e-4b07-8ce5-c115cc336d43",
   "metadata": {
    "execution": {
     "iopub.execute_input": "2024-08-14T03:50:20.912489Z",
     "iopub.status.busy": "2024-08-14T03:50:20.912131Z",
     "iopub.status.idle": "2024-08-14T03:50:25.353208Z",
     "shell.execute_reply": "2024-08-14T03:50:25.352485Z",
     "shell.execute_reply.started": "2024-08-14T03:50:20.912470Z"
    }
   },
   "outputs": [
    {
     "data": {
      "text/plain": [
       "' 高血压患者应该遵循低钠、低脂、高纤维的原则，合理膳食，科学食养。具体来说，应减少钠盐摄入量，增加富钾食物摄入，控制脂肪摄入，保持适量的热量摄入，并多食用富含维生素、矿物质和纤维素的食物。同时，应该避免高钠盐、高脂肪、高胆固醇和高糖分的食物，戒烟限酒，保持情绪稳定，并根据个体情况制定个性化的饮食计划。<eod>'"
      ]
     },
     "execution_count": 29,
     "metadata": {},
     "output_type": "execute_result"
    }
   ],
   "source": [
    "from langchain_core.output_parsers import StrOutputParser\n",
    "from langchain_core.prompts import ChatPromptTemplate\n",
    "\n",
    "system_template = \"你是一名资深的医生，对于高血压有很深的经验\"\n",
    "human_template = \"请根据以下文档回答我的问题：\\n\\n{docs}\\n\\n问题：{question}\"\n",
    "\n",
    "prompt = ChatPromptTemplate.from_messages([\n",
    "        (\"system\", system_template),\n",
    "        (\"human\" , human_template)\n",
    "    ])\n",
    "\n",
    "output_parser = StrOutputParser()\n",
    "\n",
    "chain = prompt | llm | output_parser\n",
    "question = \"高血压患者应该怎么饮食？\"\n",
    "docs = retriever.get_relevant_documents(question)\n",
    "\n",
    "chain.invoke({\"question\": question, \"docs\": docs})"
   ]
  },
  {
   "cell_type": "code",
   "execution_count": null,
   "id": "041cbb15-c6a0-402a-9efc-8a0cc260b6a9",
   "metadata": {},
   "outputs": [],
   "source": []
  }
 ],
 "metadata": {
  "kernelspec": {
   "display_name": "Python 3 (ipykernel)",
   "language": "python",
   "name": "python3"
  },
  "language_info": {
   "codemirror_mode": {
    "name": "ipython",
    "version": 3
   },
   "file_extension": ".py",
   "mimetype": "text/x-python",
   "name": "python",
   "nbconvert_exporter": "python",
   "pygments_lexer": "ipython3",
   "version": "3.8.19"
  }
 },
 "nbformat": 4,
 "nbformat_minor": 5
}
